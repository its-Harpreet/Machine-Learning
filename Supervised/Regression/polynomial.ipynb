{
 "cells": [
  {
   "cell_type": "code",
   "execution_count": 1,
   "metadata": {},
   "outputs": [],
   "source": [
    "import pandas as pd\n",
    "import numpy as np\n",
    "import plotly.express as px\n",
    "import matplotlib.pyplot as plt\n",
    "import plotly.io as pio\n",
    "pio.renderers.default='notebook'\n",
    "\n",
    "from sklearn.linear_model import LinearRegression\n",
    "from sklearn.model_selection import train_test_split\n",
    "from sklearn.preprocessing import PolynomialFeatures\n",
    "from sklearn.metrics import mean_squared_error, r2_score\n",
    "from joblib import dump,load\n",
    "\n"
   ]
  },
  {
   "cell_type": "code",
   "execution_count": 4,
   "metadata": {},
   "outputs": [
    {
     "data": {
      "text/html": [
       "<div>\n",
       "<style scoped>\n",
       "    .dataframe tbody tr th:only-of-type {\n",
       "        vertical-align: middle;\n",
       "    }\n",
       "\n",
       "    .dataframe tbody tr th {\n",
       "        vertical-align: top;\n",
       "    }\n",
       "\n",
       "    .dataframe thead th {\n",
       "        text-align: right;\n",
       "    }\n",
       "</style>\n",
       "<table border=\"1\" class=\"dataframe\">\n",
       "  <thead>\n",
       "    <tr style=\"text-align: right;\">\n",
       "      <th></th>\n",
       "      <th>Position</th>\n",
       "      <th>Level</th>\n",
       "      <th>Salary</th>\n",
       "    </tr>\n",
       "  </thead>\n",
       "  <tbody>\n",
       "    <tr>\n",
       "      <th>0</th>\n",
       "      <td>Business Analyst</td>\n",
       "      <td>1</td>\n",
       "      <td>45000</td>\n",
       "    </tr>\n",
       "    <tr>\n",
       "      <th>1</th>\n",
       "      <td>Junior Consultant</td>\n",
       "      <td>2</td>\n",
       "      <td>50000</td>\n",
       "    </tr>\n",
       "    <tr>\n",
       "      <th>2</th>\n",
       "      <td>Senior Consultant</td>\n",
       "      <td>3</td>\n",
       "      <td>60000</td>\n",
       "    </tr>\n",
       "    <tr>\n",
       "      <th>3</th>\n",
       "      <td>Manager</td>\n",
       "      <td>4</td>\n",
       "      <td>80000</td>\n",
       "    </tr>\n",
       "    <tr>\n",
       "      <th>4</th>\n",
       "      <td>Country Manager</td>\n",
       "      <td>5</td>\n",
       "      <td>110000</td>\n",
       "    </tr>\n",
       "    <tr>\n",
       "      <th>5</th>\n",
       "      <td>Region Manager</td>\n",
       "      <td>6</td>\n",
       "      <td>150000</td>\n",
       "    </tr>\n",
       "    <tr>\n",
       "      <th>6</th>\n",
       "      <td>Partner</td>\n",
       "      <td>7</td>\n",
       "      <td>200000</td>\n",
       "    </tr>\n",
       "    <tr>\n",
       "      <th>7</th>\n",
       "      <td>Senior Partner</td>\n",
       "      <td>8</td>\n",
       "      <td>300000</td>\n",
       "    </tr>\n",
       "    <tr>\n",
       "      <th>8</th>\n",
       "      <td>C-level</td>\n",
       "      <td>9</td>\n",
       "      <td>500000</td>\n",
       "    </tr>\n",
       "    <tr>\n",
       "      <th>9</th>\n",
       "      <td>CEO</td>\n",
       "      <td>10</td>\n",
       "      <td>1000000</td>\n",
       "    </tr>\n",
       "  </tbody>\n",
       "</table>\n",
       "</div>"
      ],
      "text/plain": [
       "            Position  Level   Salary\n",
       "0   Business Analyst      1    45000\n",
       "1  Junior Consultant      2    50000\n",
       "2  Senior Consultant      3    60000\n",
       "3            Manager      4    80000\n",
       "4    Country Manager      5   110000\n",
       "5     Region Manager      6   150000\n",
       "6            Partner      7   200000\n",
       "7     Senior Partner      8   300000\n",
       "8            C-level      9   500000\n",
       "9                CEO     10  1000000"
      ]
     },
     "execution_count": 4,
     "metadata": {},
     "output_type": "execute_result"
    }
   ],
   "source": [
    "url='https://raw.githubusercontent.com/digipodium/Datasets/main/Position_Salaries.csv'\n",
    "df= pd.read_csv(url)\n",
    "df"
   ]
  },
  {
   "cell_type": "code",
   "execution_count": 5,
   "metadata": {},
   "outputs": [],
   "source": [
    "from sklearn.preprocessing import PolynomialFeatures\n",
    "from sklearn.linear_model import LinearRegression\n",
    "from sklearn.metrics import mean_absolute_error, r2_score, mean_squared_error"
   ]
  },
  {
   "cell_type": "code",
   "execution_count": 6,
   "metadata": {},
   "outputs": [],
   "source": [
    "x= df[['Level']].values\n",
    "y= df['Salary'].values"
   ]
  },
  {
   "cell_type": "code",
   "execution_count": 12,
   "metadata": {},
   "outputs": [
    {
     "data": {
      "image/png": "[encoded data removed]",
      "text/plain": [
       "<Figure size 720x360 with 1 Axes>"
      ]
     },
     "metadata": {
      "needs_background": "light"
     },
     "output_type": "display_data"
    },
    {
     "name": "stdout",
     "output_type": "stream",
     "text": [
      "MAE 128454.54545454546\n",
      "MSE 26695878787.878784\n",
      "R2 0.6690412331929895\n"
     ]
    }
   ],
   "source": [
    "reg1=LinearRegression()\n",
    "reg1.fit(x,y)\n",
    "ypred1= reg1.predict(x)\n",
    "df['y_pred']= ypred1\n",
    "ax= df.plot(kind='scatter',x='Level',y='Salary',figsize=(10,5), color='red',title='Simple Linear Regression')\n",
    "df.plot(kind='line', x='Level', y='y_pred',ax=ax)\n",
    "plt.show()\n",
    "print('MAE', mean_absolute_error(y,ypred1))\n",
    "print('MSE', mean_squared_error(y,ypred1))\n",
    "print(\"R2\", r2_score(y,ypred1))"
   ]
  },
  {
   "cell_type": "code",
   "execution_count": 14,
   "metadata": {},
   "outputs": [
    {
     "data": {
      "image/png": "[encoded data removed]",
      "text/plain": [
       "<Figure size 720x360 with 1 Axes>"
      ]
     },
     "metadata": {
      "needs_background": "light"
     },
     "output_type": "display_data"
    },
    {
     "name": "stdout",
     "output_type": "stream",
     "text": [
      "MAE 70218.1818181819\n",
      "MSE 6758833333.333336\n",
      "R2 0.9162082221443942\n"
     ]
    }
   ],
   "source": [
    "pf= PolynomialFeatures(degree=2)\n",
    "x_poly= pf.fit_transform(x)\n",
    "\n",
    "reg1=LinearRegression()\n",
    "reg1.fit(x_poly ,y)\n",
    "ypred2= reg1.predict(x_poly)\n",
    "\n",
    "df['y_pred_2']= ypred2\n",
    "\n",
    "ax= df.plot(kind='scatter',x='Level',y='Salary',figsize=(10,5), color='red',title='Simple Linear Regression')\n",
    "df.plot(kind='line', x='Level', y='y_pred_2',ax=ax)\n",
    "plt.show()\n",
    "print('MAE', mean_absolute_error(y,ypred2))\n",
    "print('MSE', mean_squared_error(y,ypred2))\n",
    "print(\"R2\", r2_score(y,ypred2))"
   ]
  },
  {
   "cell_type": "code",
   "execution_count": 22,
   "metadata": {},
   "outputs": [
    {
     "data": {
      "image/png": "[encoded data removed]",
      "text/plain": [
       "<Figure size 720x360 with 1 Axes>"
      ]
     },
     "metadata": {
      "needs_background": "light"
     },
     "output_type": "display_data"
    },
    {
     "name": "stdout",
     "output_type": "stream",
     "text": [
      "MAE 3360.839160905867\n",
      "MSE 16382284.382291112\n",
      "R2 0.9997969027099753\n"
     ]
    }
   ],
   "source": [
    "pf= PolynomialFeatures(degree=5)\n",
    "x_poly= pf.fit_transform(x)\n",
    "\n",
    "reg1=LinearRegression()\n",
    "reg1.fit(x_poly ,y)\n",
    "ypred2= reg1.predict(x_poly)\n",
    "\n",
    "df['y_pred_2']= ypred2\n",
    "\n",
    "ax= df.plot(kind='scatter',x='Level',y='Salary',figsize=(10,5), color='red',title='Simple Linear Regression')\n",
    "df.plot(kind='line', x='Level', y='y_pred_2',ax=ax)\n",
    "plt.show()\n",
    "print('MAE', mean_absolute_error(y,ypred2))\n",
    "print('MSE', mean_squared_error(y,ypred2))\n",
    "print(\"R2\", r2_score(y,ypred2))"
   ]
  },
  {
   "cell_type": "code",
   "execution_count": 32,
   "metadata": {},
   "outputs": [],
   "source": [
    "def Polynomial(deg):\n",
    "    pf= PolynomialFeatures(degree=deg)\n",
    "    x_poly= pf.fit_transform(x)\n",
    "\n",
    "    reg1=LinearRegression()\n",
    "    reg1.fit(x_poly ,y)\n",
    "    ypred2= reg1.predict(x_poly)\n",
    "\n",
    "    df['y_pred_2']= ypred2\n",
    "\n",
    "    # ax= df.plot(kind='scatter',x='Level',y='Salary',figsize=(10,5), color='red',title='Simple Linear Regression')\n",
    "    # df.plot(kind='line', x='Level', y='y_pred_2',ax=ax)\n",
    "    # plt.show()\n",
    "    r2=r2_score(y,ypred2)\n",
    "    r2=r2*100\n",
    "    return r2"
   ]
  },
  {
   "cell_type": "code",
   "execution_count": 33,
   "metadata": {},
   "outputs": [
    {
     "name": "stdout",
     "output_type": "stream",
     "text": [
      "Degree =  6\n"
     ]
    }
   ],
   "source": [
    "deg=2\n",
    "r2=Polynomial(deg)\n",
    "while True:\n",
    "    if r2 >= 99.99: \n",
    "        break\n",
    "    else:\n",
    "        deg=deg+1\n",
    "        r2=Polynomial(deg)\n",
    "\n",
    "print(\"Degree = \",deg)\n",
    "    \n",
    "\n",
    "\n",
    "    \n",
    "    "
   ]
  },
  {
   "cell_type": "code",
   "execution_count": null,
   "metadata": {},
   "outputs": [],
   "source": []
  }
 ],
 "metadata": {
  "kernelspec": {
   "display_name": "Python 3.9.10 ('base')",
   "language": "python",
   "name": "python3"
  },
  "language_info": {
   "codemirror_mode": {
    "name": "ipython",
    "version": 3
   },
   "file_extension": ".py",
   "mimetype": "text/x-python",
   "name": "python",
   "nbconvert_exporter": "python",
   "pygments_lexer": "ipython3",
   "version": "3.9.10"
  },
  "orig_nbformat": 4,
  "vscode": {
   "interpreter": {
    "hash": "e6b4faaa7c9ff13e5bff5afed7e406b7401fa36b3eae0ed6ee1cfcdd2c03e1dc"
   }
  }
 },
 "nbformat": 4,
 "nbformat_minor": 2
}
