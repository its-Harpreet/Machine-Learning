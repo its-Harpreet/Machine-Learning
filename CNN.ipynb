{
  "cells": [
    {
      "cell_type": "markdown",
      "metadata": {
        "id": "view-in-github",
        "colab_type": "text"
      },
      "source": [
        "<a href=\"https://colab.research.google.com/github/its-Harpreet/Machine-Learning/blob/master/CNN.ipynb\" target=\"_parent\"><img src=\"https://colab.research.google.com/assets/colab-badge.svg\" alt=\"Open In Colab\"/></a>"
      ]
    },
    {
      "cell_type": "code",
      "execution_count": 2,
      "metadata": {
        "id": "F9IUXOuDkBY0"
      },
      "outputs": [],
      "source": [
        "import tensorflow as tf\n",
        "\n"
      ]
    },
    {
      "cell_type": "code",
      "execution_count": 3,
      "metadata": {
        "colab": {
          "base_uri": "https://localhost:8080/"
        },
        "id": "45zZnTLRlwIL",
        "outputId": "1adc0514-0677-4826-caaf-e05e33bcc7b4"
      },
      "outputs": [
        {
          "output_type": "stream",
          "name": "stdout",
          "text": [
            "Downloading data from https://www.cs.toronto.edu/~kriz/cifar-10-python.tar.gz\n",
            "170500096/170498071 [==============================] - 11s 0us/step\n",
            "170508288/170498071 [==============================] - 11s 0us/step\n"
          ]
        }
      ],
      "source": [
        "(train_imgs, train_labels), (test_imgs, test_labels)= tf.keras.datasets.cifar10.load_data()"
      ]
    },
    {
      "cell_type": "code",
      "execution_count": 4,
      "metadata": {
        "colab": {
          "base_uri": "https://localhost:8080/"
        },
        "id": "Koyy7bM9mC3P",
        "outputId": "1854a5dd-8047-4b90-d277-40b189f01749"
      },
      "outputs": [
        {
          "output_type": "stream",
          "name": "stdout",
          "text": [
            "(50000, 32, 32, 3)\n",
            "(50000, 1)\n",
            "(10000, 32, 32, 3)\n",
            "(10000, 1)\n"
          ]
        }
      ],
      "source": [
        "print(train_imgs.shape)\n",
        "print(train_labels.shape)\n",
        "print(test_imgs.shape)\n",
        "print(test_labels.shape)"
      ]
    },
    {
      "cell_type": "code",
      "execution_count": 5,
      "metadata": {
        "id": "oq3hOoRPmXBT"
      },
      "outputs": [],
      "source": [
        "def get_labels(idx):\n",
        "  labels= ['airplane', 'automobile', 'bird', 'cat', 'deer', 'dog', 'frog', 'horse', 'ship', 'truck']\n",
        "  return labels[idx]\n"
      ]
    },
    {
      "cell_type": "code",
      "execution_count": 6,
      "metadata": {
        "id": "ggRgMTCUm58L"
      },
      "outputs": [],
      "source": [
        "import matplotlib.pyplot as plt\n"
      ]
    },
    {
      "cell_type": "code",
      "execution_count": 7,
      "metadata": {
        "colab": {
          "base_uri": "https://localhost:8080/",
          "height": 118
        },
        "id": "-lJ-Cy6LnRXY",
        "outputId": "c49d0809-db6a-44e5-e687-c45ab6ea6b00"
      },
      "outputs": [
        {
          "output_type": "display_data",
          "data": {
            "text/plain": [
              "<Figure size 72x72 with 1 Axes>"
            ],
            "image/png": "[encoded data removed]"
          },
          "metadata": {
            "needs_background": "light"
          }
        }
      ],
      "source": [
        "img= train_imgs[20]\n",
        "plt.figure(figsize=(1,1))\n",
        "plt.imshow(img)\n",
        "plt.title(get_labels(train_labels[20][0]))\n",
        "plt.show()"
      ]
    },
    {
      "cell_type": "code",
      "execution_count": 8,
      "metadata": {
        "id": "sOdwX6JUnzjY"
      },
      "outputs": [],
      "source": [
        "model= tf.keras.Sequential()"
      ]
    },
    {
      "cell_type": "code",
      "execution_count": 9,
      "metadata": {
        "id": "jLoLwbIPpN5_"
      },
      "outputs": [],
      "source": [
        "model.add(\n",
        "    tf.keras.layers.Conv2D(filters=32, kernel_size=(3,3), input_shape= (32,32,3), activation='relu')\n",
        ")"
      ]
    },
    {
      "cell_type": "code",
      "execution_count": 10,
      "metadata": {
        "id": "9uy_iCjlppXK"
      },
      "outputs": [],
      "source": [
        "model.add(tf.keras.layers.MaxPool2D())"
      ]
    },
    {
      "cell_type": "code",
      "execution_count": 11,
      "metadata": {
        "id": "6IPOZaGVp8_L"
      },
      "outputs": [],
      "source": [
        "model.add(\n",
        "    tf.keras.layers.Conv2D(filters=16, kernel_size=(3,3),  activation='relu')\n",
        ")"
      ]
    },
    {
      "cell_type": "code",
      "execution_count": 12,
      "metadata": {
        "id": "xQF_CT24qLre"
      },
      "outputs": [],
      "source": [
        "model.add(tf.keras.layers.MaxPool2D())"
      ]
    },
    {
      "cell_type": "code",
      "execution_count": 13,
      "metadata": {
        "id": "YqRMgYc3qOhR"
      },
      "outputs": [],
      "source": [
        "model.add(tf.keras.layers.Flatten())"
      ]
    },
    {
      "cell_type": "code",
      "execution_count": 14,
      "metadata": {
        "id": "3snFlY5HqTEl"
      },
      "outputs": [],
      "source": [
        "model.add(tf.keras.layers.Dense(units=28, activation= 'relu'))"
      ]
    },
    {
      "cell_type": "code",
      "execution_count": 15,
      "metadata": {
        "id": "p49VGLICqbD8"
      },
      "outputs": [],
      "source": [
        "model.add(tf.keras.layers.Dense(units=10, activation= 'softmax'))"
      ]
    },
    {
      "cell_type": "code",
      "execution_count": 16,
      "metadata": {
        "id": "mKdA4fpFqhaB"
      },
      "outputs": [],
      "source": [
        "model.compile(\n",
        "    optimizer='adam',\n",
        "    loss= 'sparse_categorical_crossentropy',\n",
        "    metrics=['accuracy']\n",
        ")"
      ]
    },
    {
      "cell_type": "code",
      "execution_count": 17,
      "metadata": {
        "colab": {
          "base_uri": "https://localhost:8080/"
        },
        "id": "wugsoviprKKV",
        "outputId": "77a7f707-b0c4-41eb-857f-f777da3bdd8b"
      },
      "outputs": [
        {
          "output_type": "stream",
          "name": "stdout",
          "text": [
            "Model: \"sequential\"\n",
            "_________________________________________________________________\n",
            " Layer (type)                Output Shape              Param #   \n",
            "=================================================================\n",
            " conv2d (Conv2D)             (None, 30, 30, 32)        896       \n",
            "                                                                 \n",
            " max_pooling2d (MaxPooling2D  (None, 15, 15, 32)       0         \n",
            " )                                                               \n",
            "                                                                 \n",
            " conv2d_1 (Conv2D)           (None, 13, 13, 16)        4624      \n",
            "                                                                 \n",
            " max_pooling2d_1 (MaxPooling  (None, 6, 6, 16)         0         \n",
            " 2D)                                                             \n",
            "                                                                 \n",
            " flatten (Flatten)           (None, 576)               0         \n",
            "                                                                 \n",
            " dense (Dense)               (None, 28)                16156     \n",
            "                                                                 \n",
            " dense_1 (Dense)             (None, 10)                290       \n",
            "                                                                 \n",
            "=================================================================\n",
            "Total params: 21,966\n",
            "Trainable params: 21,966\n",
            "Non-trainable params: 0\n",
            "_________________________________________________________________\n"
          ]
        }
      ],
      "source": [
        "model.summary()"
      ]
    },
    {
      "cell_type": "code",
      "execution_count": 18,
      "metadata": {
        "colab": {
          "base_uri": "https://localhost:8080/"
        },
        "id": "qvuq_F9ArPTc",
        "outputId": "28e22b25-d330-4342-eb5a-578a15033b5b"
      },
      "outputs": [
        {
          "output_type": "stream",
          "name": "stdout",
          "text": [
            "Epoch 1/25\n",
            "1563/1563 [==============================] - 49s 31ms/step - loss: 2.1695 - accuracy: 0.2615 - val_loss: 1.9228 - val_accuracy: 0.3325\n",
            "Epoch 2/25\n",
            "1563/1563 [==============================] - 48s 31ms/step - loss: 1.5857 - accuracy: 0.4158 - val_loss: 1.5301 - val_accuracy: 0.4494\n",
            "Epoch 3/25\n",
            "1563/1563 [==============================] - 50s 32ms/step - loss: 1.4037 - accuracy: 0.4962 - val_loss: 1.3310 - val_accuracy: 0.5216\n",
            "Epoch 4/25\n",
            "1563/1563 [==============================] - 51s 33ms/step - loss: 1.2837 - accuracy: 0.5418 - val_loss: 1.3084 - val_accuracy: 0.5422\n",
            "Epoch 5/25\n",
            "1563/1563 [==============================] - 64s 41ms/step - loss: 1.2099 - accuracy: 0.5736 - val_loss: 1.2439 - val_accuracy: 0.5683\n",
            "Epoch 6/25\n",
            "1563/1563 [==============================] - 56s 36ms/step - loss: 1.1527 - accuracy: 0.5958 - val_loss: 1.2264 - val_accuracy: 0.5777\n",
            "Epoch 7/25\n",
            "1563/1563 [==============================] - 56s 36ms/step - loss: 1.1083 - accuracy: 0.6131 - val_loss: 1.1446 - val_accuracy: 0.5978\n",
            "Epoch 8/25\n",
            "1563/1563 [==============================] - 55s 35ms/step - loss: 1.0701 - accuracy: 0.6269 - val_loss: 1.1667 - val_accuracy: 0.5931\n",
            "Epoch 9/25\n",
            "1563/1563 [==============================] - 53s 34ms/step - loss: 1.0502 - accuracy: 0.6356 - val_loss: 1.1132 - val_accuracy: 0.6136\n",
            "Epoch 10/25\n",
            "1563/1563 [==============================] - 52s 33ms/step - loss: 1.0236 - accuracy: 0.6483 - val_loss: 1.1060 - val_accuracy: 0.6187\n",
            "Epoch 11/25\n",
            "1563/1563 [==============================] - 54s 35ms/step - loss: 1.0025 - accuracy: 0.6545 - val_loss: 1.1023 - val_accuracy: 0.6196\n",
            "Epoch 12/25\n",
            "1563/1563 [==============================] - 52s 33ms/step - loss: 0.9864 - accuracy: 0.6617 - val_loss: 1.1471 - val_accuracy: 0.6174\n",
            "Epoch 13/25\n",
            "1563/1563 [==============================] - 53s 34ms/step - loss: 0.9674 - accuracy: 0.6642 - val_loss: 1.1192 - val_accuracy: 0.6268\n",
            "Epoch 14/25\n",
            "1563/1563 [==============================] - 52s 33ms/step - loss: 0.9552 - accuracy: 0.6701 - val_loss: 1.1202 - val_accuracy: 0.6211\n",
            "Epoch 15/25\n",
            "1563/1563 [==============================] - 52s 33ms/step - loss: 0.9482 - accuracy: 0.6756 - val_loss: 1.1821 - val_accuracy: 0.6055\n",
            "Epoch 16/25\n",
            "1563/1563 [==============================] - 53s 34ms/step - loss: 0.9411 - accuracy: 0.6768 - val_loss: 1.1648 - val_accuracy: 0.6161\n",
            "Epoch 17/25\n",
            "1563/1563 [==============================] - 51s 33ms/step - loss: 0.9289 - accuracy: 0.6807 - val_loss: 1.0945 - val_accuracy: 0.6389\n",
            "Epoch 18/25\n",
            "1563/1563 [==============================] - 54s 35ms/step - loss: 0.9194 - accuracy: 0.6847 - val_loss: 1.0636 - val_accuracy: 0.6445\n",
            "Epoch 19/25\n",
            "1563/1563 [==============================] - 53s 34ms/step - loss: 0.9141 - accuracy: 0.6868 - val_loss: 1.0762 - val_accuracy: 0.6393\n",
            "Epoch 20/25\n",
            "1563/1563 [==============================] - 53s 34ms/step - loss: 0.9105 - accuracy: 0.6892 - val_loss: 1.1103 - val_accuracy: 0.6409\n",
            "Epoch 21/25\n",
            "1563/1563 [==============================] - 54s 35ms/step - loss: 0.9042 - accuracy: 0.6886 - val_loss: 1.1514 - val_accuracy: 0.6296\n",
            "Epoch 22/25\n",
            "1563/1563 [==============================] - 53s 34ms/step - loss: 0.8957 - accuracy: 0.6929 - val_loss: 1.0852 - val_accuracy: 0.6450\n",
            "Epoch 23/25\n",
            "1563/1563 [==============================] - 53s 34ms/step - loss: 0.8894 - accuracy: 0.6962 - val_loss: 1.1174 - val_accuracy: 0.6361\n",
            "Epoch 24/25\n",
            "1563/1563 [==============================] - 57s 37ms/step - loss: 0.8840 - accuracy: 0.6979 - val_loss: 1.2315 - val_accuracy: 0.6052\n",
            "Epoch 25/25\n",
            "1563/1563 [==============================] - 55s 35ms/step - loss: 0.8799 - accuracy: 0.7000 - val_loss: 1.1680 - val_accuracy: 0.6273\n"
          ]
        }
      ],
      "source": [
        "history= model.fit(train_imgs, train_labels, validation_data= [test_imgs,test_labels ], epochs=25)"
      ]
    },
    {
      "cell_type": "code",
      "execution_count": 21,
      "metadata": {
        "id": "2_Q5ijjbrjcY",
        "colab": {
          "base_uri": "https://localhost:8080/",
          "height": 268
        },
        "outputId": "9b02fa13-18bf-49a9-824d-42f52d0226ce"
      },
      "outputs": [
        {
          "output_type": "display_data",
          "data": {
            "text/plain": [
              "<Figure size 432x288 with 1 Axes>"
            ],
            "image/png": "[encoded data removed]"
          },
          "metadata": {
            "needs_background": "light"
          }
        }
      ],
      "source": [
        "plt.plot(history.history['accuracy'])\n",
        "plt.plot(history.history['loss'])\n",
        "plt.show()"
      ]
    },
    {
      "cell_type": "markdown",
      "source": [
        ""
      ],
      "metadata": {
        "id": "IisHQ1qG7BEe"
      }
    },
    {
      "cell_type": "code",
      "execution_count": 22,
      "metadata": {
        "id": "jEGy5n2Jr5Jz",
        "colab": {
          "base_uri": "https://localhost:8080/"
        },
        "outputId": "3ad91e81-ef93-4c2a-ee97-8213146bc49f"
      },
      "outputs": [
        {
          "output_type": "stream",
          "name": "stdout",
          "text": [
            "INFO:tensorflow:Assets written to: cifar10.hs/assets\n"
          ]
        }
      ],
      "source": [
        "model.save(\"cifar10.hs\")"
      ]
    },
    {
      "cell_type": "code",
      "source": [
        "loaded_model= tf.keras.models.load_model('cifar10.hs')"
      ],
      "metadata": {
        "id": "8IgKYmFQ3Loz"
      },
      "execution_count": 23,
      "outputs": []
    },
    {
      "cell_type": "code",
      "source": [
        "model.input.shape"
      ],
      "metadata": {
        "colab": {
          "base_uri": "https://localhost:8080/"
        },
        "id": "fspzsm913lBp",
        "outputId": "34d3a643-eb84-41eb-c5ea-92f94f03c7c0"
      },
      "execution_count": 24,
      "outputs": [
        {
          "output_type": "execute_result",
          "data": {
            "text/plain": [
              "TensorShape([None, 32, 32, 3])"
            ]
          },
          "metadata": {},
          "execution_count": 24
        }
      ]
    },
    {
      "cell_type": "markdown",
      "source": [
        "**PREDICTION**"
      ],
      "metadata": {
        "id": "M0HxMjFr7DCt"
      }
    },
    {
      "cell_type": "code",
      "source": [
        "from PIL import Image\n",
        "import requests\n",
        "import numpy as np\n",
        "import io\n"
      ],
      "metadata": {
        "id": "tkTpGSyA7Okp"
      },
      "execution_count": 25,
      "outputs": []
    },
    {
      "cell_type": "code",
      "source": [
        "img= tf.keras.preprocessing.image.load_img(\"/content/cock.png\")\n",
        "img_arr= tf.keras.preprocessing.image.img_to_array(img)\n",
        "img_arr.resize((32,32,3))\n",
        "img_arr= np.expand_dims(img_arr,axis=0)\n",
        "print(img_arr.shape)\n",
        "output= loaded_model.predict(img_arr)\n",
        "get_labels(output.argmax())\n"
      ],
      "metadata": {
        "colab": {
          "base_uri": "https://localhost:8080/",
          "height": 53
        },
        "id": "ZxcS41Hn-5Xv",
        "outputId": "c9c37f40-022b-4fa8-95e7-c70fe0a1949e"
      },
      "execution_count": 32,
      "outputs": [
        {
          "output_type": "stream",
          "name": "stdout",
          "text": [
            "(1, 32, 32, 3)\n"
          ]
        },
        {
          "output_type": "execute_result",
          "data": {
            "text/plain": [
              "'deer'"
            ],
            "application/vnd.google.colaboratory.intrinsic+json": {
              "type": "string"
            }
          },
          "metadata": {},
          "execution_count": 32
        }
      ]
    },
    {
      "cell_type": "code",
      "source": [
        "for i in range(200):\n",
        "  olabel= get_labels(test_labels[i][0])\n",
        "  plabel= get_labels(loaded_model.predict(np.array([test_imgs[i]])).argmax())\n",
        "  print(\"❌\") if olabel!= plabel else print('✔')\n",
        "  print(\"Original:  \", olabel)\n",
        "  print(\"Prediction:  \", plabel)\n",
        "  print('\\n')"
      ],
      "metadata": {
        "id": "7e5_8eKy_yDT"
      },
      "execution_count": null,
      "outputs": []
    },
    {
      "cell_type": "code",
      "source": [
        ""
      ],
      "metadata": {
        "id": "ABy_9rq3C3Bt"
      },
      "execution_count": null,
      "outputs": []
    }
  ],
  "metadata": {
    "colab": {
      "name": "CNN.ipynb",
      "provenance": [],
      "collapsed_sections": [],
      "authorship_tag": "ABX9TyOi2rRjWNSsFvgYxWJSpJlF",
      "include_colab_link": true
    },
    "kernelspec": {
      "display_name": "Python 3",
      "name": "python3"
    },
    "language_info": {
      "name": "python"
    }
  },
  "nbformat": 4,
  "nbformat_minor": 0
}