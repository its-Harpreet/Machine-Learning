{
  "nbformat": 4,
  "nbformat_minor": 0,
  "metadata": {
    "colab": {
      "name": "ANN.ipynb",
      "provenance": [],
      "authorship_tag": "ABX9TyPxx/7xiFvnTvZ3HyPWlxRk",
      "include_colab_link": true
    },
    "kernelspec": {
      "name": "python3",
      "display_name": "Python 3"
    },
    "language_info": {
      "name": "python"
    }
  },
  "cells": [
    {
      "cell_type": "markdown",
      "metadata": {
        "id": "view-in-github",
        "colab_type": "text"
      },
      "source": [
        "<a href=\"https://colab.research.google.com/github/its-Harpreet/Machine-Learning/blob/master/ANN.ipynb\" target=\"_parent\"><img src=\"https://colab.research.google.com/assets/colab-badge.svg\" alt=\"Open In Colab\"/></a>"
      ]
    },
    {
      "cell_type": "code",
      "execution_count": 1,
      "metadata": {
        "id": "7SGVR1qXVSBy"
      },
      "outputs": [],
      "source": [
        "import tensorflow as tf\n",
        "import pandas as pd\n",
        "import numpy as np\n",
        "import matplotlib.pyplot as plt"
      ]
    },
    {
      "cell_type": "code",
      "source": [
        "df= pd.read_csv('https://raw.githubusercontent.com/digipodium/Datasets/main/classfication/diabetes.csv')"
      ],
      "metadata": {
        "id": "mm-1pVp9Vte3"
      },
      "execution_count": 2,
      "outputs": []
    },
    {
      "cell_type": "code",
      "source": [
        "df.head()"
      ],
      "metadata": {
        "id": "18UAsF-EWKOy"
      },
      "execution_count": null,
      "outputs": []
    },
    {
      "cell_type": "code",
      "source": [
        "df.info()\n"
      ],
      "metadata": {
        "id": "tL1ZvRzoWLpS"
      },
      "execution_count": null,
      "outputs": []
    },
    {
      "cell_type": "code",
      "source": [
        "x=df.drop('Outcome',axis=1)\n",
        "x.shape"
      ],
      "metadata": {
        "id": "63iZh8e1WNLY"
      },
      "execution_count": null,
      "outputs": []
    },
    {
      "cell_type": "code",
      "source": [
        "y=df['Outcome']"
      ],
      "metadata": {
        "id": "LAHBfW_TWbJr"
      },
      "execution_count": 6,
      "outputs": []
    },
    {
      "cell_type": "code",
      "source": [
        "tf.__version__"
      ],
      "metadata": {
        "id": "Q9n_vKRcWg3X"
      },
      "execution_count": null,
      "outputs": []
    },
    {
      "cell_type": "code",
      "source": [
        "model= tf.keras.models.Sequential()"
      ],
      "metadata": {
        "id": "52_dsGB6Wqox"
      },
      "execution_count": 13,
      "outputs": []
    },
    {
      "cell_type": "code",
      "source": [
        "model.add(tf.keras.layers.Dense(12, activation='relu', input_shape=(8,)))"
      ],
      "metadata": {
        "id": "IBreMOJAXni-"
      },
      "execution_count": 14,
      "outputs": []
    },
    {
      "cell_type": "code",
      "source": [
        "model.add(tf.keras.layers.Dense(8, activation='relu'))"
      ],
      "metadata": {
        "id": "hl7xh99LXfXc"
      },
      "execution_count": 15,
      "outputs": []
    },
    {
      "cell_type": "code",
      "source": [
        "model.add(tf.keras.layers.Dense(1, activation='sigmoid'))"
      ],
      "metadata": {
        "id": "KOg5KN-IZz05"
      },
      "execution_count": 16,
      "outputs": []
    },
    {
      "cell_type": "code",
      "source": [
        "model.compile(\n",
        "    optimizer='adam',\n",
        "    loss='binary_crossentropy',\n",
        "    metrics=['accuracy']\n",
        ")"
      ],
      "metadata": {
        "id": "q4nArdTWZ8X4"
      },
      "execution_count": 23,
      "outputs": []
    },
    {
      "cell_type": "code",
      "source": [
        "history= model.fit(\n",
        "    x=x,\n",
        "    y=y,\n",
        "    batch_size=8,\n",
        "    epochs= 100\n",
        ")"
      ],
      "metadata": {
        "colab": {
          "base_uri": "https://localhost:8080/"
        },
        "id": "nDKxL6BWalEg",
        "outputId": "cc161a49-63c6-43de-8913-9f4a3f25de64"
      },
      "execution_count": 26,
      "outputs": [
        {
          "output_type": "stream",
          "name": "stdout",
          "text": [
            "Epoch 1/100\n",
            "96/96 [==============================] - 0s 2ms/step - loss: 0.4644 - accuracy: 0.7773\n",
            "Epoch 2/100\n",
            "96/96 [==============================] - 0s 1ms/step - loss: 0.4643 - accuracy: 0.7760\n",
            "Epoch 3/100\n",
            "96/96 [==============================] - 0s 2ms/step - loss: 0.4638 - accuracy: 0.7773\n",
            "Epoch 4/100\n",
            "96/96 [==============================] - 0s 1ms/step - loss: 0.4653 - accuracy: 0.7682\n",
            "Epoch 5/100\n",
            "96/96 [==============================] - 0s 2ms/step - loss: 0.4636 - accuracy: 0.7708\n",
            "Epoch 6/100\n",
            "96/96 [==============================] - 0s 1ms/step - loss: 0.4658 - accuracy: 0.7708\n",
            "Epoch 7/100\n",
            "96/96 [==============================] - 0s 2ms/step - loss: 0.4664 - accuracy: 0.7865\n",
            "Epoch 8/100\n",
            "96/96 [==============================] - 0s 2ms/step - loss: 0.4665 - accuracy: 0.7669\n",
            "Epoch 9/100\n",
            "96/96 [==============================] - 0s 1ms/step - loss: 0.4730 - accuracy: 0.7591\n",
            "Epoch 10/100\n",
            "96/96 [==============================] - 0s 2ms/step - loss: 0.4708 - accuracy: 0.7682\n",
            "Epoch 11/100\n",
            "96/96 [==============================] - 0s 2ms/step - loss: 0.4652 - accuracy: 0.7812\n",
            "Epoch 12/100\n",
            "96/96 [==============================] - 0s 2ms/step - loss: 0.4629 - accuracy: 0.7734\n",
            "Epoch 13/100\n",
            "96/96 [==============================] - 0s 2ms/step - loss: 0.4661 - accuracy: 0.7773\n",
            "Epoch 14/100\n",
            "96/96 [==============================] - 0s 2ms/step - loss: 0.4672 - accuracy: 0.7760\n",
            "Epoch 15/100\n",
            "96/96 [==============================] - 0s 1ms/step - loss: 0.4635 - accuracy: 0.7799\n",
            "Epoch 16/100\n",
            "96/96 [==============================] - 0s 2ms/step - loss: 0.4626 - accuracy: 0.7734\n",
            "Epoch 17/100\n",
            "96/96 [==============================] - 0s 2ms/step - loss: 0.4638 - accuracy: 0.7682\n",
            "Epoch 18/100\n",
            "96/96 [==============================] - 0s 2ms/step - loss: 0.4632 - accuracy: 0.7747\n",
            "Epoch 19/100\n",
            "96/96 [==============================] - 0s 2ms/step - loss: 0.4631 - accuracy: 0.7786\n",
            "Epoch 20/100\n",
            "96/96 [==============================] - 0s 2ms/step - loss: 0.4610 - accuracy: 0.7760\n",
            "Epoch 21/100\n",
            "96/96 [==============================] - 0s 2ms/step - loss: 0.4647 - accuracy: 0.7747\n",
            "Epoch 22/100\n",
            "96/96 [==============================] - 0s 2ms/step - loss: 0.4599 - accuracy: 0.7812\n",
            "Epoch 23/100\n",
            "96/96 [==============================] - 0s 2ms/step - loss: 0.4653 - accuracy: 0.7760\n",
            "Epoch 24/100\n",
            "96/96 [==============================] - 0s 2ms/step - loss: 0.4634 - accuracy: 0.7734\n",
            "Epoch 25/100\n",
            "96/96 [==============================] - 0s 1ms/step - loss: 0.4597 - accuracy: 0.7786\n",
            "Epoch 26/100\n",
            "96/96 [==============================] - 0s 2ms/step - loss: 0.4652 - accuracy: 0.7682\n",
            "Epoch 27/100\n",
            "96/96 [==============================] - 0s 2ms/step - loss: 0.4613 - accuracy: 0.7865\n",
            "Epoch 28/100\n",
            "96/96 [==============================] - 0s 2ms/step - loss: 0.4629 - accuracy: 0.7891\n",
            "Epoch 29/100\n",
            "96/96 [==============================] - 0s 1ms/step - loss: 0.4632 - accuracy: 0.7891\n",
            "Epoch 30/100\n",
            "96/96 [==============================] - 0s 2ms/step - loss: 0.4710 - accuracy: 0.7747\n",
            "Epoch 31/100\n",
            "96/96 [==============================] - 0s 2ms/step - loss: 0.4668 - accuracy: 0.7721\n",
            "Epoch 32/100\n",
            "96/96 [==============================] - 0s 2ms/step - loss: 0.4596 - accuracy: 0.7773\n",
            "Epoch 33/100\n",
            "96/96 [==============================] - 0s 2ms/step - loss: 0.4674 - accuracy: 0.7760\n",
            "Epoch 34/100\n",
            "96/96 [==============================] - 0s 2ms/step - loss: 0.4609 - accuracy: 0.7708\n",
            "Epoch 35/100\n",
            "96/96 [==============================] - 0s 2ms/step - loss: 0.4651 - accuracy: 0.7760\n",
            "Epoch 36/100\n",
            "96/96 [==============================] - 0s 1ms/step - loss: 0.4656 - accuracy: 0.7773\n",
            "Epoch 37/100\n",
            "96/96 [==============================] - 0s 2ms/step - loss: 0.4704 - accuracy: 0.7539\n",
            "Epoch 38/100\n",
            "96/96 [==============================] - 0s 2ms/step - loss: 0.4603 - accuracy: 0.7773\n",
            "Epoch 39/100\n",
            "96/96 [==============================] - 0s 1ms/step - loss: 0.4627 - accuracy: 0.7656\n",
            "Epoch 40/100\n",
            "96/96 [==============================] - 0s 2ms/step - loss: 0.4652 - accuracy: 0.7682\n",
            "Epoch 41/100\n",
            "96/96 [==============================] - 0s 2ms/step - loss: 0.4603 - accuracy: 0.7839\n",
            "Epoch 42/100\n",
            "96/96 [==============================] - 0s 2ms/step - loss: 0.4588 - accuracy: 0.7786\n",
            "Epoch 43/100\n",
            "96/96 [==============================] - 0s 1ms/step - loss: 0.4635 - accuracy: 0.7747\n",
            "Epoch 44/100\n",
            "96/96 [==============================] - 0s 2ms/step - loss: 0.4643 - accuracy: 0.7852\n",
            "Epoch 45/100\n",
            "96/96 [==============================] - 0s 2ms/step - loss: 0.4590 - accuracy: 0.7773\n",
            "Epoch 46/100\n",
            "96/96 [==============================] - 0s 2ms/step - loss: 0.4597 - accuracy: 0.7786\n",
            "Epoch 47/100\n",
            "96/96 [==============================] - 0s 2ms/step - loss: 0.4580 - accuracy: 0.7839\n",
            "Epoch 48/100\n",
            "96/96 [==============================] - 0s 2ms/step - loss: 0.4647 - accuracy: 0.7773\n",
            "Epoch 49/100\n",
            "96/96 [==============================] - 0s 2ms/step - loss: 0.4591 - accuracy: 0.7852\n",
            "Epoch 50/100\n",
            "96/96 [==============================] - 0s 2ms/step - loss: 0.4584 - accuracy: 0.7669\n",
            "Epoch 51/100\n",
            "96/96 [==============================] - 0s 2ms/step - loss: 0.4593 - accuracy: 0.7865\n",
            "Epoch 52/100\n",
            "96/96 [==============================] - 0s 2ms/step - loss: 0.4598 - accuracy: 0.7799\n",
            "Epoch 53/100\n",
            "96/96 [==============================] - 0s 2ms/step - loss: 0.4549 - accuracy: 0.7786\n",
            "Epoch 54/100\n",
            "96/96 [==============================] - 0s 2ms/step - loss: 0.4625 - accuracy: 0.7760\n",
            "Epoch 55/100\n",
            "96/96 [==============================] - 0s 2ms/step - loss: 0.4737 - accuracy: 0.7799\n",
            "Epoch 56/100\n",
            "96/96 [==============================] - 0s 2ms/step - loss: 0.4635 - accuracy: 0.7747\n",
            "Epoch 57/100\n",
            "96/96 [==============================] - 0s 2ms/step - loss: 0.4705 - accuracy: 0.7773\n",
            "Epoch 58/100\n",
            "96/96 [==============================] - 0s 2ms/step - loss: 0.4595 - accuracy: 0.7852\n",
            "Epoch 59/100\n",
            "96/96 [==============================] - 0s 2ms/step - loss: 0.4555 - accuracy: 0.7839\n",
            "Epoch 60/100\n",
            "96/96 [==============================] - 0s 2ms/step - loss: 0.4535 - accuracy: 0.7930\n",
            "Epoch 61/100\n",
            "96/96 [==============================] - 0s 2ms/step - loss: 0.4538 - accuracy: 0.7799\n",
            "Epoch 62/100\n",
            "96/96 [==============================] - 0s 2ms/step - loss: 0.4627 - accuracy: 0.7708\n",
            "Epoch 63/100\n",
            "96/96 [==============================] - 0s 2ms/step - loss: 0.4601 - accuracy: 0.7734\n",
            "Epoch 64/100\n",
            "96/96 [==============================] - 0s 2ms/step - loss: 0.4560 - accuracy: 0.7852\n",
            "Epoch 65/100\n",
            "96/96 [==============================] - 0s 2ms/step - loss: 0.4543 - accuracy: 0.7760\n",
            "Epoch 66/100\n",
            "96/96 [==============================] - 0s 2ms/step - loss: 0.4539 - accuracy: 0.7773\n",
            "Epoch 67/100\n",
            "96/96 [==============================] - 0s 2ms/step - loss: 0.4574 - accuracy: 0.7826\n",
            "Epoch 68/100\n",
            "96/96 [==============================] - 0s 1ms/step - loss: 0.4541 - accuracy: 0.7799\n",
            "Epoch 69/100\n",
            "96/96 [==============================] - 0s 2ms/step - loss: 0.4590 - accuracy: 0.7839\n",
            "Epoch 70/100\n",
            "96/96 [==============================] - 0s 2ms/step - loss: 0.4568 - accuracy: 0.7760\n",
            "Epoch 71/100\n",
            "96/96 [==============================] - 0s 2ms/step - loss: 0.4577 - accuracy: 0.7852\n",
            "Epoch 72/100\n",
            "96/96 [==============================] - 0s 2ms/step - loss: 0.4643 - accuracy: 0.7734\n",
            "Epoch 73/100\n",
            "96/96 [==============================] - 0s 2ms/step - loss: 0.4559 - accuracy: 0.7852\n",
            "Epoch 74/100\n",
            "96/96 [==============================] - 0s 1ms/step - loss: 0.4594 - accuracy: 0.7904\n",
            "Epoch 75/100\n",
            "96/96 [==============================] - 0s 2ms/step - loss: 0.4603 - accuracy: 0.7852\n",
            "Epoch 76/100\n",
            "96/96 [==============================] - 0s 2ms/step - loss: 0.4591 - accuracy: 0.7799\n",
            "Epoch 77/100\n",
            "96/96 [==============================] - 0s 1ms/step - loss: 0.4586 - accuracy: 0.7826\n",
            "Epoch 78/100\n",
            "96/96 [==============================] - 0s 2ms/step - loss: 0.4528 - accuracy: 0.7839\n",
            "Epoch 79/100\n",
            "96/96 [==============================] - 0s 2ms/step - loss: 0.4544 - accuracy: 0.7812\n",
            "Epoch 80/100\n",
            "96/96 [==============================] - 0s 2ms/step - loss: 0.4546 - accuracy: 0.7852\n",
            "Epoch 81/100\n",
            "96/96 [==============================] - 0s 2ms/step - loss: 0.4524 - accuracy: 0.7760\n",
            "Epoch 82/100\n",
            "96/96 [==============================] - 0s 2ms/step - loss: 0.4533 - accuracy: 0.7786\n",
            "Epoch 83/100\n",
            "96/96 [==============================] - 0s 2ms/step - loss: 0.4530 - accuracy: 0.7812\n",
            "Epoch 84/100\n",
            "96/96 [==============================] - 0s 2ms/step - loss: 0.4545 - accuracy: 0.7891\n",
            "Epoch 85/100\n",
            "96/96 [==============================] - 0s 1ms/step - loss: 0.4543 - accuracy: 0.7878\n",
            "Epoch 86/100\n",
            "96/96 [==============================] - 0s 1ms/step - loss: 0.4513 - accuracy: 0.7852\n",
            "Epoch 87/100\n",
            "96/96 [==============================] - 0s 1ms/step - loss: 0.4509 - accuracy: 0.7747\n",
            "Epoch 88/100\n",
            "96/96 [==============================] - 0s 1ms/step - loss: 0.4563 - accuracy: 0.7826\n",
            "Epoch 89/100\n",
            "96/96 [==============================] - 0s 2ms/step - loss: 0.4490 - accuracy: 0.7878\n",
            "Epoch 90/100\n",
            "96/96 [==============================] - 0s 2ms/step - loss: 0.4614 - accuracy: 0.7747\n",
            "Epoch 91/100\n",
            "96/96 [==============================] - 0s 2ms/step - loss: 0.4597 - accuracy: 0.7786\n",
            "Epoch 92/100\n",
            "96/96 [==============================] - 0s 1ms/step - loss: 0.4632 - accuracy: 0.7878\n",
            "Epoch 93/100\n",
            "96/96 [==============================] - 0s 2ms/step - loss: 0.4558 - accuracy: 0.7878\n",
            "Epoch 94/100\n",
            "96/96 [==============================] - 0s 1ms/step - loss: 0.4606 - accuracy: 0.7839\n",
            "Epoch 95/100\n",
            "96/96 [==============================] - 0s 2ms/step - loss: 0.4599 - accuracy: 0.7799\n",
            "Epoch 96/100\n",
            "96/96 [==============================] - 0s 2ms/step - loss: 0.4624 - accuracy: 0.7812\n",
            "Epoch 97/100\n",
            "96/96 [==============================] - 0s 2ms/step - loss: 0.4557 - accuracy: 0.7799\n",
            "Epoch 98/100\n",
            "96/96 [==============================] - 0s 2ms/step - loss: 0.4537 - accuracy: 0.7865\n",
            "Epoch 99/100\n",
            "96/96 [==============================] - 0s 2ms/step - loss: 0.4528 - accuracy: 0.7812\n",
            "Epoch 100/100\n",
            "96/96 [==============================] - 0s 2ms/step - loss: 0.4520 - accuracy: 0.7852\n"
          ]
        }
      ]
    },
    {
      "cell_type": "code",
      "source": [
        "pd.DataFrame(history.history).plot(subplots=True, layout=(1,2), figsize=(20,6))"
      ],
      "metadata": {
        "colab": {
          "base_uri": "https://localhost:8080/",
          "height": 426
        },
        "id": "cJ0w_8DKbsde",
        "outputId": "52adbc7b-8811-4e23-9de4-b48ee09f6f5a"
      },
      "execution_count": 28,
      "outputs": [
        {
          "output_type": "execute_result",
          "data": {
            "text/plain": [
              "array([[<matplotlib.axes._subplots.AxesSubplot object at 0x7f410c14f7d0>,\n",
              "        <matplotlib.axes._subplots.AxesSubplot object at 0x7f410ae072d0>]],\n",
              "      dtype=object)"
            ]
          },
          "metadata": {},
          "execution_count": 28
        },
        {
          "output_type": "display_data",
          "data": {
            "text/plain": [
              "<Figure size 1440x432 with 2 Axes>"
            ],
            "image/png": "[encoded data removed]"
          },
          "metadata": {
            "needs_background": "light"
          }
        }
      ]
    },
    {
      "cell_type": "code",
      "source": [
        "df['Pred']= model.predict(x)"
      ],
      "metadata": {
        "id": "etWdC9Lmcxzs"
      },
      "execution_count": 29,
      "outputs": []
    },
    {
      "cell_type": "code",
      "source": [
        "df['PredClass']= (df['Pred']>0.5).astype(int)"
      ],
      "metadata": {
        "id": "AwP5-ezrdse-"
      },
      "execution_count": 33,
      "outputs": []
    },
    {
      "cell_type": "code",
      "source": [
        "df"
      ],
      "metadata": {
        "colab": {
          "base_uri": "https://localhost:8080/",
          "height": 655
        },
        "id": "QMty6FHLduRo",
        "outputId": "df4c4e5e-3ac0-4a09-d8d0-9b8cf0cab3bc"
      },
      "execution_count": 34,
      "outputs": [
        {
          "output_type": "execute_result",
          "data": {
            "text/plain": [
              "     Pregnancies  Glucose  BloodPressure  SkinThickness  Insulin   BMI  \\\n",
              "0              6      148             72             35        0  33.6   \n",
              "1              1       85             66             29        0  26.6   \n",
              "2              8      183             64              0        0  23.3   \n",
              "3              1       89             66             23       94  28.1   \n",
              "4              0      137             40             35      168  43.1   \n",
              "..           ...      ...            ...            ...      ...   ...   \n",
              "763           10      101             76             48      180  32.9   \n",
              "764            2      122             70             27        0  36.8   \n",
              "765            5      121             72             23      112  26.2   \n",
              "766            1      126             60              0        0  30.1   \n",
              "767            1       93             70             31        0  30.4   \n",
              "\n",
              "     DiabetesPedigreeFunction  Age  Outcome      Pred  PredClass  \n",
              "0                       0.627   50        1  0.780717          1  \n",
              "1                       0.351   31        0  0.138325          0  \n",
              "2                       0.672   32        1  0.715759          1  \n",
              "3                       0.167   21        0  0.138325          0  \n",
              "4                       2.288   33        1  0.723509          1  \n",
              "..                        ...  ...      ...       ...        ...  \n",
              "763                     0.171   63        0  0.159977          0  \n",
              "764                     0.340   27        0  0.316247          0  \n",
              "765                     0.245   30        0  0.121818          0  \n",
              "766                     0.349   47        1  0.427920          0  \n",
              "767                     0.315   23        0  0.138325          0  \n",
              "\n",
              "[768 rows x 11 columns]"
            ],
            "text/html": [
              "\n",
              "  <div id=\"df-8b480d9b-75c7-4650-9228-af428a1814c9\">\n",
              "    <div class=\"colab-df-container\">\n",
              "      <div>\n",
              "<style scoped>\n",
              "    .dataframe tbody tr th:only-of-type {\n",
              "        vertical-align: middle;\n",
              "    }\n",
              "\n",
              "    .dataframe tbody tr th {\n",
              "        vertical-align: top;\n",
              "    }\n",
              "\n",
              "    .dataframe thead th {\n",
              "        text-align: right;\n",
              "    }\n",
              "</style>\n",
              "<table border=\"1\" class=\"dataframe\">\n",
              "  <thead>\n",
              "    <tr style=\"text-align: right;\">\n",
              "      <th></th>\n",
              "      <th>Pregnancies</th>\n",
              "      <th>Glucose</th>\n",
              "      <th>BloodPressure</th>\n",
              "      <th>SkinThickness</th>\n",
              "      <th>Insulin</th>\n",
              "      <th>BMI</th>\n",
              "      <th>DiabetesPedigreeFunction</th>\n",
              "      <th>Age</th>\n",
              "      <th>Outcome</th>\n",
              "      <th>Pred</th>\n",
              "      <th>PredClass</th>\n",
              "    </tr>\n",
              "  </thead>\n",
              "  <tbody>\n",
              "    <tr>\n",
              "      <th>0</th>\n",
              "      <td>6</td>\n",
              "      <td>148</td>\n",
              "      <td>72</td>\n",
              "      <td>35</td>\n",
              "      <td>0</td>\n",
              "      <td>33.6</td>\n",
              "      <td>0.627</td>\n",
              "      <td>50</td>\n",
              "      <td>1</td>\n",
              "      <td>0.780717</td>\n",
              "      <td>1</td>\n",
              "    </tr>\n",
              "    <tr>\n",
              "      <th>1</th>\n",
              "      <td>1</td>\n",
              "      <td>85</td>\n",
              "      <td>66</td>\n",
              "      <td>29</td>\n",
              "      <td>0</td>\n",
              "      <td>26.6</td>\n",
              "      <td>0.351</td>\n",
              "      <td>31</td>\n",
              "      <td>0</td>\n",
              "      <td>0.138325</td>\n",
              "      <td>0</td>\n",
              "    </tr>\n",
              "    <tr>\n",
              "      <th>2</th>\n",
              "      <td>8</td>\n",
              "      <td>183</td>\n",
              "      <td>64</td>\n",
              "      <td>0</td>\n",
              "      <td>0</td>\n",
              "      <td>23.3</td>\n",
              "      <td>0.672</td>\n",
              "      <td>32</td>\n",
              "      <td>1</td>\n",
              "      <td>0.715759</td>\n",
              "      <td>1</td>\n",
              "    </tr>\n",
              "    <tr>\n",
              "      <th>3</th>\n",
              "      <td>1</td>\n",
              "      <td>89</td>\n",
              "      <td>66</td>\n",
              "      <td>23</td>\n",
              "      <td>94</td>\n",
              "      <td>28.1</td>\n",
              "      <td>0.167</td>\n",
              "      <td>21</td>\n",
              "      <td>0</td>\n",
              "      <td>0.138325</td>\n",
              "      <td>0</td>\n",
              "    </tr>\n",
              "    <tr>\n",
              "      <th>4</th>\n",
              "      <td>0</td>\n",
              "      <td>137</td>\n",
              "      <td>40</td>\n",
              "      <td>35</td>\n",
              "      <td>168</td>\n",
              "      <td>43.1</td>\n",
              "      <td>2.288</td>\n",
              "      <td>33</td>\n",
              "      <td>1</td>\n",
              "      <td>0.723509</td>\n",
              "      <td>1</td>\n",
              "    </tr>\n",
              "    <tr>\n",
              "      <th>...</th>\n",
              "      <td>...</td>\n",
              "      <td>...</td>\n",
              "      <td>...</td>\n",
              "      <td>...</td>\n",
              "      <td>...</td>\n",
              "      <td>...</td>\n",
              "      <td>...</td>\n",
              "      <td>...</td>\n",
              "      <td>...</td>\n",
              "      <td>...</td>\n",
              "      <td>...</td>\n",
              "    </tr>\n",
              "    <tr>\n",
              "      <th>763</th>\n",
              "      <td>10</td>\n",
              "      <td>101</td>\n",
              "      <td>76</td>\n",
              "      <td>48</td>\n",
              "      <td>180</td>\n",
              "      <td>32.9</td>\n",
              "      <td>0.171</td>\n",
              "      <td>63</td>\n",
              "      <td>0</td>\n",
              "      <td>0.159977</td>\n",
              "      <td>0</td>\n",
              "    </tr>\n",
              "    <tr>\n",
              "      <th>764</th>\n",
              "      <td>2</td>\n",
              "      <td>122</td>\n",
              "      <td>70</td>\n",
              "      <td>27</td>\n",
              "      <td>0</td>\n",
              "      <td>36.8</td>\n",
              "      <td>0.340</td>\n",
              "      <td>27</td>\n",
              "      <td>0</td>\n",
              "      <td>0.316247</td>\n",
              "      <td>0</td>\n",
              "    </tr>\n",
              "    <tr>\n",
              "      <th>765</th>\n",
              "      <td>5</td>\n",
              "      <td>121</td>\n",
              "      <td>72</td>\n",
              "      <td>23</td>\n",
              "      <td>112</td>\n",
              "      <td>26.2</td>\n",
              "      <td>0.245</td>\n",
              "      <td>30</td>\n",
              "      <td>0</td>\n",
              "      <td>0.121818</td>\n",
              "      <td>0</td>\n",
              "    </tr>\n",
              "    <tr>\n",
              "      <th>766</th>\n",
              "      <td>1</td>\n",
              "      <td>126</td>\n",
              "      <td>60</td>\n",
              "      <td>0</td>\n",
              "      <td>0</td>\n",
              "      <td>30.1</td>\n",
              "      <td>0.349</td>\n",
              "      <td>47</td>\n",
              "      <td>1</td>\n",
              "      <td>0.427920</td>\n",
              "      <td>0</td>\n",
              "    </tr>\n",
              "    <tr>\n",
              "      <th>767</th>\n",
              "      <td>1</td>\n",
              "      <td>93</td>\n",
              "      <td>70</td>\n",
              "      <td>31</td>\n",
              "      <td>0</td>\n",
              "      <td>30.4</td>\n",
              "      <td>0.315</td>\n",
              "      <td>23</td>\n",
              "      <td>0</td>\n",
              "      <td>0.138325</td>\n",
              "      <td>0</td>\n",
              "    </tr>\n",
              "  </tbody>\n",
              "</table>\n",
              "<p>768 rows × 11 columns</p>\n",
              "</div>\n",
              "      <button class=\"colab-df-convert\" onclick=\"convertToInteractive('df-8b480d9b-75c7-4650-9228-af428a1814c9')\"\n",
              "              title=\"Convert this dataframe to an interactive table.\"\n",
              "              style=\"display:none;\">\n",
              "        \n",
              "  <svg xmlns=\"http://www.w3.org/2000/svg\" height=\"24px\"viewBox=\"0 0 24 24\"\n",
              "       width=\"24px\">\n",
              "    <path d=\"M0 0h24v24H0V0z\" fill=\"none\"/>\n",
              "    <path d=\"M18.56 5.44l.94 2.06.94-2.06 2.06-.94-2.06-.94-.94-2.06-.94 2.06-2.06.94zm-11 1L8.5 8.5l.94-2.06 2.06-.94-2.06-.94L8.5 2.5l-.94 2.06-2.06.94zm10 10l.94 2.06.94-2.06 2.06-.94-2.06-.94-.94-2.06-.94 2.06-2.06.94z\"/><path d=\"M17.41 7.96l-1.37-1.37c-.4-.4-.92-.59-1.43-.59-.52 0-1.04.2-1.43.59L10.3 9.45l-7.72 7.72c-.78.78-.78 2.05 0 2.83L4 21.41c.39.39.9.59 1.41.59.51 0 1.02-.2 1.41-.59l7.78-7.78 2.81-2.81c.8-.78.8-2.07 0-2.86zM5.41 20L4 18.59l7.72-7.72 1.47 1.35L5.41 20z\"/>\n",
              "  </svg>\n",
              "      </button>\n",
              "      \n",
              "  <style>\n",
              "    .colab-df-container {\n",
              "      display:flex;\n",
              "      flex-wrap:wrap;\n",
              "      gap: 12px;\n",
              "    }\n",
              "\n",
              "    .colab-df-convert {\n",
              "      background-color: #E8F0FE;\n",
              "      border: none;\n",
              "      border-radius: 50%;\n",
              "      cursor: pointer;\n",
              "      display: none;\n",
              "      fill: #1967D2;\n",
              "      height: 32px;\n",
              "      padding: 0 0 0 0;\n",
              "      width: 32px;\n",
              "    }\n",
              "\n",
              "    .colab-df-convert:hover {\n",
              "      background-color: #E2EBFA;\n",
              "      box-shadow: 0px 1px 2px rgba(60, 64, 67, 0.3), 0px 1px 3px 1px rgba(60, 64, 67, 0.15);\n",
              "      fill: #174EA6;\n",
              "    }\n",
              "\n",
              "    [theme=dark] .colab-df-convert {\n",
              "      background-color: #3B4455;\n",
              "      fill: #D2E3FC;\n",
              "    }\n",
              "\n",
              "    [theme=dark] .colab-df-convert:hover {\n",
              "      background-color: #434B5C;\n",
              "      box-shadow: 0px 1px 3px 1px rgba(0, 0, 0, 0.15);\n",
              "      filter: drop-shadow(0px 1px 2px rgba(0, 0, 0, 0.3));\n",
              "      fill: #FFFFFF;\n",
              "    }\n",
              "  </style>\n",
              "\n",
              "      <script>\n",
              "        const buttonEl =\n",
              "          document.querySelector('#df-8b480d9b-75c7-4650-9228-af428a1814c9 button.colab-df-convert');\n",
              "        buttonEl.style.display =\n",
              "          google.colab.kernel.accessAllowed ? 'block' : 'none';\n",
              "\n",
              "        async function convertToInteractive(key) {\n",
              "          const element = document.querySelector('#df-8b480d9b-75c7-4650-9228-af428a1814c9');\n",
              "          const dataTable =\n",
              "            await google.colab.kernel.invokeFunction('convertToInteractive',\n",
              "                                                     [key], {});\n",
              "          if (!dataTable) return;\n",
              "\n",
              "          const docLinkHtml = 'Like what you see? Visit the ' +\n",
              "            '<a target=\"_blank\" href=https://colab.research.google.com/notebooks/data_table.ipynb>data table notebook</a>'\n",
              "            + ' to learn more about interactive tables.';\n",
              "          element.innerHTML = '';\n",
              "          dataTable['output_type'] = 'display_data';\n",
              "          await google.colab.output.renderOutput(dataTable, element);\n",
              "          const docLink = document.createElement('div');\n",
              "          docLink.innerHTML = docLinkHtml;\n",
              "          element.appendChild(docLink);\n",
              "        }\n",
              "      </script>\n",
              "    </div>\n",
              "  </div>\n",
              "  "
            ]
          },
          "metadata": {},
          "execution_count": 34
        }
      ]
    },
    {
      "cell_type": "code",
      "source": [
        "from sklearn.metrics import confusion_matrix, classification_report"
      ],
      "metadata": {
        "id": "XCVasct1d7he"
      },
      "execution_count": 35,
      "outputs": []
    },
    {
      "cell_type": "code",
      "source": [
        "print(confusion_matrix(y, df['PredClass'].values))"
      ],
      "metadata": {
        "colab": {
          "base_uri": "https://localhost:8080/"
        },
        "id": "XhHQIfANedTR",
        "outputId": "9e56c8a4-f2d4-4f55-8100-6a578976dc70"
      },
      "execution_count": 36,
      "outputs": [
        {
          "output_type": "stream",
          "name": "stdout",
          "text": [
            "[[449  51]\n",
            " [119 149]]\n"
          ]
        }
      ]
    },
    {
      "cell_type": "code",
      "source": [
        "print(classification_report(y, df['PredClass'].values))"
      ],
      "metadata": {
        "colab": {
          "base_uri": "https://localhost:8080/"
        },
        "id": "rQ0zIgyNemqm",
        "outputId": "72afe52f-9095-4b9d-dd37-5613e9019b59"
      },
      "execution_count": 38,
      "outputs": [
        {
          "output_type": "stream",
          "name": "stdout",
          "text": [
            "              precision    recall  f1-score   support\n",
            "\n",
            "           0       0.79      0.90      0.84       500\n",
            "           1       0.74      0.56      0.64       268\n",
            "\n",
            "    accuracy                           0.78       768\n",
            "   macro avg       0.77      0.73      0.74       768\n",
            "weighted avg       0.77      0.78      0.77       768\n",
            "\n"
          ]
        }
      ]
    },
    {
      "cell_type": "code",
      "source": [
        ""
      ],
      "metadata": {
        "id": "RLYqDsdCe1uv"
      },
      "execution_count": null,
      "outputs": []
    }
  ]
}